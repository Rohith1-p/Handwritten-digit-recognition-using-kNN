{
  "nbformat": 4,
  "nbformat_minor": 0,
  "metadata": {
    "colab": {
      "name": "Car Price Prediction.ipynb",
      "provenance": [],
      "collapsed_sections": [
        "LS-bO56FMt8p"
      ],
      "include_colab_link": true
    },
    "kernelspec": {
      "name": "python3",
      "display_name": "Python 3"
    },
    "language_info": {
      "name": "python"
    }
  },
  "cells": [
    {
      "cell_type": "markdown",
      "metadata": {
        "id": "view-in-github",
        "colab_type": "text"
      },
      "source": [
        "<a href=\"https://colab.research.google.com/github/Rohith1-p/Handwritten-digit-recognition-using-kNN/blob/gh-pages/Car_Price_Prediction.ipynb\" target=\"_parent\"><img src=\"https://colab.research.google.com/assets/colab-badge.svg\" alt=\"Open In Colab\"/></a>"
      ]
    },
    {
      "cell_type": "markdown",
      "metadata": {
        "id": "auXtuHkGX4Zn"
      },
      "source": [
        "# Imports"
      ]
    },
    {
      "cell_type": "code",
      "metadata": {
        "id": "h93L7CYjr-FT"
      },
      "source": [
        "import pandas as pd"
      ],
      "execution_count": null,
      "outputs": []
    },
    {
      "cell_type": "markdown",
      "metadata": {
        "id": "-xCXcJFSX6TQ"
      },
      "source": [
        "# Data Collection"
      ]
    },
    {
      "cell_type": "code",
      "metadata": {
        "id": "9iSgI6VU68b3",
        "colab": {
          "base_uri": "https://localhost:8080/"
        },
        "outputId": "20284cb3-d824-42a2-98eb-d6293858ce39"
      },
      "source": [
        "!wget https://nkb-backend-otg-media-static.s3.ap-south-1.amazonaws.com/otg_prod/media/Tech_4.0/AI_ML/CCBP_Platform_Projects/Car_Price_Prediction/train_Y_cp.csv\n",
        "!wget https://nkb-backend-otg-media-static.s3.ap-south-1.amazonaws.com/otg_prod/media/Tech_4.0/AI_ML/CCBP_Platform_Projects/Car_Price_Prediction/train_X_cp.csv\n",
        "!wget https://nkb-backend-otg-media-static.s3.ap-south-1.amazonaws.com/otg_prod/media/Tech_4.0/AI_ML/CCBP_Platform_Projects/Car_Price_Prediction/test_X_cp.csv"
      ],
      "execution_count": null,
      "outputs": [
        {
          "output_type": "stream",
          "text": [
            "--2021-06-19 09:31:53--  https://nkb-backend-otg-media-static.s3.ap-south-1.amazonaws.com/otg_prod/media/Tech_4.0/AI_ML/CCBP_Platform_Projects/Car_Price_Prediction/train_Y_cp.csv\n",
            "Resolving nkb-backend-otg-media-static.s3.ap-south-1.amazonaws.com (nkb-backend-otg-media-static.s3.ap-south-1.amazonaws.com)... 52.219.64.23\n",
            "Connecting to nkb-backend-otg-media-static.s3.ap-south-1.amazonaws.com (nkb-backend-otg-media-static.s3.ap-south-1.amazonaws.com)|52.219.64.23|:443... connected.\n",
            "HTTP request sent, awaiting response... 200 OK\n",
            "Length: 881 [text/csv]\n",
            "Saving to: ‘train_Y_cp.csv’\n",
            "\n",
            "train_Y_cp.csv      100%[===================>]     881  --.-KB/s    in 0s      \n",
            "\n",
            "2021-06-19 09:31:54 (53.1 MB/s) - ‘train_Y_cp.csv’ saved [881/881]\n",
            "\n",
            "--2021-06-19 09:31:54--  https://nkb-backend-otg-media-static.s3.ap-south-1.amazonaws.com/otg_prod/media/Tech_4.0/AI_ML/CCBP_Platform_Projects/Car_Price_Prediction/train_X_cp.csv\n",
            "Resolving nkb-backend-otg-media-static.s3.ap-south-1.amazonaws.com (nkb-backend-otg-media-static.s3.ap-south-1.amazonaws.com)... 52.219.64.23\n",
            "Connecting to nkb-backend-otg-media-static.s3.ap-south-1.amazonaws.com (nkb-backend-otg-media-static.s3.ap-south-1.amazonaws.com)|52.219.64.23|:443... connected.\n",
            "HTTP request sent, awaiting response... 200 OK\n",
            "Length: 22068 (22K) [text/csv]\n",
            "Saving to: ‘train_X_cp.csv’\n",
            "\n",
            "train_X_cp.csv      100%[===================>]  21.55K  91.8KB/s    in 0.2s    \n",
            "\n",
            "2021-06-19 09:31:56 (91.8 KB/s) - ‘train_X_cp.csv’ saved [22068/22068]\n",
            "\n",
            "--2021-06-19 09:31:56--  https://nkb-backend-otg-media-static.s3.ap-south-1.amazonaws.com/otg_prod/media/Tech_4.0/AI_ML/CCBP_Platform_Projects/Car_Price_Prediction/test_X_cp.csv\n",
            "Resolving nkb-backend-otg-media-static.s3.ap-south-1.amazonaws.com (nkb-backend-otg-media-static.s3.ap-south-1.amazonaws.com)... 52.219.64.23\n",
            "Connecting to nkb-backend-otg-media-static.s3.ap-south-1.amazonaws.com (nkb-backend-otg-media-static.s3.ap-south-1.amazonaws.com)|52.219.64.23|:443... connected.\n",
            "HTTP request sent, awaiting response... 200 OK\n",
            "Length: 5749 (5.6K) [text/csv]\n",
            "Saving to: ‘test_X_cp.csv’\n",
            "\n",
            "test_X_cp.csv       100%[===================>]   5.61K  --.-KB/s    in 0s      \n",
            "\n",
            "2021-06-19 09:31:57 (208 MB/s) - ‘test_X_cp.csv’ saved [5749/5749]\n",
            "\n"
          ],
          "name": "stdout"
        }
      ]
    },
    {
      "cell_type": "code",
      "metadata": {
        "id": "HoJx-RR61Sk2"
      },
      "source": [
        "train_X_df = pd.read_csv('train_X_cp.csv')\n",
        "train_Y_df = pd.read_csv('train_Y_cp.csv', header=None).squeeze()\n",
        "\n",
        "test_X_df = pd.read_csv('test_X_cp.csv')"
      ],
      "execution_count": null,
      "outputs": []
    },
    {
      "cell_type": "code",
      "metadata": {
        "id": "vLM0-uBSuTjU",
        "colab": {
          "base_uri": "https://localhost:8080/",
          "height": 473
        },
        "outputId": "e347f2a6-3197-4af5-8a11-fea6b34791d8"
      },
      "source": [
        "train_X_df"
      ],
      "execution_count": null,
      "outputs": [
        {
          "output_type": "execute_result",
          "data": {
            "text/html": [
              "<div>\n",
              "<style scoped>\n",
              "    .dataframe tbody tr th:only-of-type {\n",
              "        vertical-align: middle;\n",
              "    }\n",
              "\n",
              "    .dataframe tbody tr th {\n",
              "        vertical-align: top;\n",
              "    }\n",
              "\n",
              "    .dataframe thead th {\n",
              "        text-align: right;\n",
              "    }\n",
              "</style>\n",
              "<table border=\"1\" class=\"dataframe\">\n",
              "  <thead>\n",
              "    <tr style=\"text-align: right;\">\n",
              "      <th></th>\n",
              "      <th>symboling</th>\n",
              "      <th>normalized-losses</th>\n",
              "      <th>make</th>\n",
              "      <th>fuel-type</th>\n",
              "      <th>aspiration</th>\n",
              "      <th>num-of-doors</th>\n",
              "      <th>body-style</th>\n",
              "      <th>drive-wheels</th>\n",
              "      <th>engine-location</th>\n",
              "      <th>wheel-base</th>\n",
              "      <th>length</th>\n",
              "      <th>width</th>\n",
              "      <th>height</th>\n",
              "      <th>curb-weight</th>\n",
              "      <th>engine-type</th>\n",
              "      <th>num-of-cylinders</th>\n",
              "      <th>engine-size</th>\n",
              "      <th>fuel-system</th>\n",
              "      <th>bore</th>\n",
              "      <th>stroke</th>\n",
              "      <th>compression-ratio</th>\n",
              "      <th>horsepower</th>\n",
              "      <th>peak-rpm</th>\n",
              "      <th>city-mpg</th>\n",
              "      <th>highway-mpg</th>\n",
              "    </tr>\n",
              "  </thead>\n",
              "  <tbody>\n",
              "    <tr>\n",
              "      <th>0</th>\n",
              "      <td>0</td>\n",
              "      <td>90.09</td>\n",
              "      <td>toyota</td>\n",
              "      <td>gas</td>\n",
              "      <td>std</td>\n",
              "      <td>four</td>\n",
              "      <td>hatchback</td>\n",
              "      <td>fwd</td>\n",
              "      <td>front</td>\n",
              "      <td>95.7</td>\n",
              "      <td>164.637</td>\n",
              "      <td>63.756</td>\n",
              "      <td>52.272</td>\n",
              "      <td>2109</td>\n",
              "      <td>ohc</td>\n",
              "      <td>four</td>\n",
              "      <td>98</td>\n",
              "      <td>2bbl</td>\n",
              "      <td>3.19</td>\n",
              "      <td>3.03</td>\n",
              "      <td>9.0</td>\n",
              "      <td>70.0</td>\n",
              "      <td>4800.0</td>\n",
              "      <td>30</td>\n",
              "      <td>37</td>\n",
              "    </tr>\n",
              "    <tr>\n",
              "      <th>1</th>\n",
              "      <td>0</td>\n",
              "      <td>84.15</td>\n",
              "      <td>subaru</td>\n",
              "      <td>gas</td>\n",
              "      <td>turbo</td>\n",
              "      <td>four</td>\n",
              "      <td>wagon</td>\n",
              "      <td>4wd</td>\n",
              "      <td>front</td>\n",
              "      <td>96.9</td>\n",
              "      <td>171.864</td>\n",
              "      <td>64.746</td>\n",
              "      <td>54.351</td>\n",
              "      <td>2650</td>\n",
              "      <td>ohcf</td>\n",
              "      <td>four</td>\n",
              "      <td>108</td>\n",
              "      <td>mpfi</td>\n",
              "      <td>3.62</td>\n",
              "      <td>2.64</td>\n",
              "      <td>7.7</td>\n",
              "      <td>111.0</td>\n",
              "      <td>4800.0</td>\n",
              "      <td>23</td>\n",
              "      <td>23</td>\n",
              "    </tr>\n",
              "    <tr>\n",
              "      <th>2</th>\n",
              "      <td>1</td>\n",
              "      <td>126.72</td>\n",
              "      <td>nissan</td>\n",
              "      <td>gas</td>\n",
              "      <td>std</td>\n",
              "      <td>two</td>\n",
              "      <td>hatchback</td>\n",
              "      <td>fwd</td>\n",
              "      <td>front</td>\n",
              "      <td>94.5</td>\n",
              "      <td>163.944</td>\n",
              "      <td>63.162</td>\n",
              "      <td>52.767</td>\n",
              "      <td>2028</td>\n",
              "      <td>ohc</td>\n",
              "      <td>four</td>\n",
              "      <td>97</td>\n",
              "      <td>2bbl</td>\n",
              "      <td>3.15</td>\n",
              "      <td>3.29</td>\n",
              "      <td>9.4</td>\n",
              "      <td>69.0</td>\n",
              "      <td>5200.0</td>\n",
              "      <td>31</td>\n",
              "      <td>37</td>\n",
              "    </tr>\n",
              "    <tr>\n",
              "      <th>3</th>\n",
              "      <td>0</td>\n",
              "      <td>77.22</td>\n",
              "      <td>honda</td>\n",
              "      <td>gas</td>\n",
              "      <td>std</td>\n",
              "      <td>four</td>\n",
              "      <td>wagon</td>\n",
              "      <td>fwd</td>\n",
              "      <td>front</td>\n",
              "      <td>96.5</td>\n",
              "      <td>155.529</td>\n",
              "      <td>63.261</td>\n",
              "      <td>57.717</td>\n",
              "      <td>2024</td>\n",
              "      <td>ohc</td>\n",
              "      <td>four</td>\n",
              "      <td>92</td>\n",
              "      <td>1bbl</td>\n",
              "      <td>2.92</td>\n",
              "      <td>3.41</td>\n",
              "      <td>9.2</td>\n",
              "      <td>76.0</td>\n",
              "      <td>6000.0</td>\n",
              "      <td>30</td>\n",
              "      <td>34</td>\n",
              "    </tr>\n",
              "    <tr>\n",
              "      <th>4</th>\n",
              "      <td>-1</td>\n",
              "      <td>73.26</td>\n",
              "      <td>volvo</td>\n",
              "      <td>gas</td>\n",
              "      <td>std</td>\n",
              "      <td>four</td>\n",
              "      <td>wagon</td>\n",
              "      <td>rwd</td>\n",
              "      <td>front</td>\n",
              "      <td>104.3</td>\n",
              "      <td>186.912</td>\n",
              "      <td>66.528</td>\n",
              "      <td>56.925</td>\n",
              "      <td>3034</td>\n",
              "      <td>ohc</td>\n",
              "      <td>four</td>\n",
              "      <td>141</td>\n",
              "      <td>mpfi</td>\n",
              "      <td>3.78</td>\n",
              "      <td>3.15</td>\n",
              "      <td>9.5</td>\n",
              "      <td>114.0</td>\n",
              "      <td>5400.0</td>\n",
              "      <td>23</td>\n",
              "      <td>28</td>\n",
              "    </tr>\n",
              "    <tr>\n",
              "      <th>...</th>\n",
              "      <td>...</td>\n",
              "      <td>...</td>\n",
              "      <td>...</td>\n",
              "      <td>...</td>\n",
              "      <td>...</td>\n",
              "      <td>...</td>\n",
              "      <td>...</td>\n",
              "      <td>...</td>\n",
              "      <td>...</td>\n",
              "      <td>...</td>\n",
              "      <td>...</td>\n",
              "      <td>...</td>\n",
              "      <td>...</td>\n",
              "      <td>...</td>\n",
              "      <td>...</td>\n",
              "      <td>...</td>\n",
              "      <td>...</td>\n",
              "      <td>...</td>\n",
              "      <td>...</td>\n",
              "      <td>...</td>\n",
              "      <td>...</td>\n",
              "      <td>...</td>\n",
              "      <td>...</td>\n",
              "      <td>...</td>\n",
              "      <td>...</td>\n",
              "    </tr>\n",
              "    <tr>\n",
              "      <th>155</th>\n",
              "      <td>1</td>\n",
              "      <td>166.32</td>\n",
              "      <td>toyota</td>\n",
              "      <td>gas</td>\n",
              "      <td>std</td>\n",
              "      <td>two</td>\n",
              "      <td>hatchback</td>\n",
              "      <td>rwd</td>\n",
              "      <td>front</td>\n",
              "      <td>94.5</td>\n",
              "      <td>167.013</td>\n",
              "      <td>63.360</td>\n",
              "      <td>52.074</td>\n",
              "      <td>2300</td>\n",
              "      <td>dohc</td>\n",
              "      <td>four</td>\n",
              "      <td>98</td>\n",
              "      <td>mpfi</td>\n",
              "      <td>3.24</td>\n",
              "      <td>3.08</td>\n",
              "      <td>9.4</td>\n",
              "      <td>112.0</td>\n",
              "      <td>6600.0</td>\n",
              "      <td>26</td>\n",
              "      <td>29</td>\n",
              "    </tr>\n",
              "    <tr>\n",
              "      <th>156</th>\n",
              "      <td>0</td>\n",
              "      <td>NaN</td>\n",
              "      <td>volkswagen</td>\n",
              "      <td>gas</td>\n",
              "      <td>std</td>\n",
              "      <td>four</td>\n",
              "      <td>wagon</td>\n",
              "      <td>fwd</td>\n",
              "      <td>front</td>\n",
              "      <td>100.4</td>\n",
              "      <td>181.269</td>\n",
              "      <td>66.231</td>\n",
              "      <td>54.549</td>\n",
              "      <td>2563</td>\n",
              "      <td>ohc</td>\n",
              "      <td>four</td>\n",
              "      <td>109</td>\n",
              "      <td>mpfi</td>\n",
              "      <td>3.19</td>\n",
              "      <td>3.40</td>\n",
              "      <td>9.0</td>\n",
              "      <td>88.0</td>\n",
              "      <td>5500.0</td>\n",
              "      <td>25</td>\n",
              "      <td>31</td>\n",
              "    </tr>\n",
              "    <tr>\n",
              "      <th>157</th>\n",
              "      <td>3</td>\n",
              "      <td>NaN</td>\n",
              "      <td>plymouth</td>\n",
              "      <td>gas</td>\n",
              "      <td>turbo</td>\n",
              "      <td>two</td>\n",
              "      <td>hatchback</td>\n",
              "      <td>rwd</td>\n",
              "      <td>front</td>\n",
              "      <td>95.9</td>\n",
              "      <td>171.468</td>\n",
              "      <td>65.637</td>\n",
              "      <td>49.698</td>\n",
              "      <td>2818</td>\n",
              "      <td>ohc</td>\n",
              "      <td>four</td>\n",
              "      <td>156</td>\n",
              "      <td>spdi</td>\n",
              "      <td>3.59</td>\n",
              "      <td>3.86</td>\n",
              "      <td>7.0</td>\n",
              "      <td>145.0</td>\n",
              "      <td>5000.0</td>\n",
              "      <td>19</td>\n",
              "      <td>24</td>\n",
              "    </tr>\n",
              "    <tr>\n",
              "      <th>158</th>\n",
              "      <td>3</td>\n",
              "      <td>195.03</td>\n",
              "      <td>toyota</td>\n",
              "      <td>gas</td>\n",
              "      <td>std</td>\n",
              "      <td>two</td>\n",
              "      <td>hatchback</td>\n",
              "      <td>rwd</td>\n",
              "      <td>front</td>\n",
              "      <td>102.9</td>\n",
              "      <td>181.665</td>\n",
              "      <td>67.023</td>\n",
              "      <td>51.480</td>\n",
              "      <td>3016</td>\n",
              "      <td>dohc</td>\n",
              "      <td>six</td>\n",
              "      <td>171</td>\n",
              "      <td>mpfi</td>\n",
              "      <td>3.27</td>\n",
              "      <td>3.35</td>\n",
              "      <td>9.3</td>\n",
              "      <td>161.0</td>\n",
              "      <td>5200.0</td>\n",
              "      <td>19</td>\n",
              "      <td>24</td>\n",
              "    </tr>\n",
              "    <tr>\n",
              "      <th>159</th>\n",
              "      <td>1</td>\n",
              "      <td>116.82</td>\n",
              "      <td>dodge</td>\n",
              "      <td>gas</td>\n",
              "      <td>turbo</td>\n",
              "      <td>two</td>\n",
              "      <td>hatchback</td>\n",
              "      <td>fwd</td>\n",
              "      <td>front</td>\n",
              "      <td>93.7</td>\n",
              "      <td>155.727</td>\n",
              "      <td>63.162</td>\n",
              "      <td>50.292</td>\n",
              "      <td>2128</td>\n",
              "      <td>ohc</td>\n",
              "      <td>four</td>\n",
              "      <td>98</td>\n",
              "      <td>mpfi</td>\n",
              "      <td>3.03</td>\n",
              "      <td>3.39</td>\n",
              "      <td>7.6</td>\n",
              "      <td>102.0</td>\n",
              "      <td>5500.0</td>\n",
              "      <td>24</td>\n",
              "      <td>30</td>\n",
              "    </tr>\n",
              "  </tbody>\n",
              "</table>\n",
              "<p>160 rows × 25 columns</p>\n",
              "</div>"
            ],
            "text/plain": [
              "     symboling  normalized-losses        make  ... peak-rpm city-mpg highway-mpg\n",
              "0            0              90.09      toyota  ...   4800.0       30          37\n",
              "1            0              84.15      subaru  ...   4800.0       23          23\n",
              "2            1             126.72      nissan  ...   5200.0       31          37\n",
              "3            0              77.22       honda  ...   6000.0       30          34\n",
              "4           -1              73.26       volvo  ...   5400.0       23          28\n",
              "..         ...                ...         ...  ...      ...      ...         ...\n",
              "155          1             166.32      toyota  ...   6600.0       26          29\n",
              "156          0                NaN  volkswagen  ...   5500.0       25          31\n",
              "157          3                NaN    plymouth  ...   5000.0       19          24\n",
              "158          3             195.03      toyota  ...   5200.0       19          24\n",
              "159          1             116.82       dodge  ...   5500.0       24          30\n",
              "\n",
              "[160 rows x 25 columns]"
            ]
          },
          "metadata": {
            "tags": []
          },
          "execution_count": 6
        }
      ]
    },
    {
      "cell_type": "code",
      "metadata": {
        "id": "TXEtgDibubpv"
      },
      "source": [
        "train_X_df['drive-wheels'].replace(to_replace = '4wd',value = 'fwd',inplace = True)"
      ],
      "execution_count": null,
      "outputs": []
    },
    {
      "cell_type": "code",
      "metadata": {
        "id": "0HJtDGV2urkR",
        "colab": {
          "base_uri": "https://localhost:8080/"
        },
        "outputId": "9feefb5e-7c4c-415a-e465-f88e166e698f"
      },
      "source": [
        "train_X_df['drive-wheels'].unique()"
      ],
      "execution_count": null,
      "outputs": [
        {
          "output_type": "execute_result",
          "data": {
            "text/plain": [
              "array(['fwd', 'rwd'], dtype=object)"
            ]
          },
          "metadata": {
            "tags": []
          },
          "execution_count": 8
        }
      ]
    },
    {
      "cell_type": "markdown",
      "metadata": {
        "id": "eP2-DkeRu3jq"
      },
      "source": [
        "#**UNDERSTANDIG THE DATA**"
      ]
    },
    {
      "cell_type": "code",
      "metadata": {
        "id": "M2iLfVrku1rN",
        "colab": {
          "base_uri": "https://localhost:8080/"
        },
        "outputId": "f7985ac7-16d9-4fb3-e2ed-4395e7a9a63b"
      },
      "source": [
        "print('train_X_df shape',train_X_df.shape)\n",
        "print('train_Y_df shape',train_Y_df.shape)\n",
        "print('test_X_df',test_X_df.shape)"
      ],
      "execution_count": null,
      "outputs": [
        {
          "output_type": "stream",
          "text": [
            "train_X_df shape (160, 25)\n",
            "train_Y_df shape (160,)\n",
            "test_X_df (41, 25)\n"
          ],
          "name": "stdout"
        }
      ]
    },
    {
      "cell_type": "code",
      "metadata": {
        "id": "VuI99HFdvajV",
        "colab": {
          "base_uri": "https://localhost:8080/"
        },
        "outputId": "044c6dee-9e94-4b0b-9b5e-f72fb54408b6"
      },
      "source": [
        "\n",
        "train_X_df.isna().sum()"
      ],
      "execution_count": null,
      "outputs": [
        {
          "output_type": "execute_result",
          "data": {
            "text/plain": [
              "symboling             0\n",
              "normalized-losses    30\n",
              "make                  0\n",
              "fuel-type             0\n",
              "aspiration            0\n",
              "num-of-doors          2\n",
              "body-style            0\n",
              "drive-wheels          0\n",
              "engine-location       0\n",
              "wheel-base            0\n",
              "length                0\n",
              "width                 0\n",
              "height                0\n",
              "curb-weight           0\n",
              "engine-type           0\n",
              "num-of-cylinders      0\n",
              "engine-size           0\n",
              "fuel-system           0\n",
              "bore                  4\n",
              "stroke                4\n",
              "compression-ratio     0\n",
              "horsepower            2\n",
              "peak-rpm              2\n",
              "city-mpg              0\n",
              "highway-mpg           0\n",
              "dtype: int64"
            ]
          },
          "metadata": {
            "tags": []
          },
          "execution_count": 10
        }
      ]
    },
    {
      "cell_type": "code",
      "metadata": {
        "id": "tqzD-avCvftW",
        "colab": {
          "base_uri": "https://localhost:8080/"
        },
        "outputId": "aa62b346-e46e-4834-c0c6-ed2cbc46bfce"
      },
      "source": [
        "categorical_cols = train_X_df.columns[train_X_df.dtypes == 'object']\n",
        "categorical_cols"
      ],
      "execution_count": null,
      "outputs": [
        {
          "output_type": "execute_result",
          "data": {
            "text/plain": [
              "Index(['make', 'fuel-type', 'aspiration', 'num-of-doors', 'body-style',\n",
              "       'drive-wheels', 'engine-location', 'engine-type', 'num-of-cylinders',\n",
              "       'fuel-system'],\n",
              "      dtype='object')"
            ]
          },
          "metadata": {
            "tags": []
          },
          "execution_count": 11
        }
      ]
    },
    {
      "cell_type": "code",
      "metadata": {
        "id": "dm2bOiYawnix",
        "colab": {
          "base_uri": "https://localhost:8080/"
        },
        "outputId": "7f3c5c74-022a-491f-8342-fb99355eb8d7"
      },
      "source": [
        "numerical_cols = set(train_X_df.columns) - set(categorical_cols)\n",
        "numerical_cols = list(numerical_cols)\n",
        "numerical_cols"
      ],
      "execution_count": null,
      "outputs": [
        {
          "output_type": "execute_result",
          "data": {
            "text/plain": [
              "['length',\n",
              " 'wheel-base',\n",
              " 'highway-mpg',\n",
              " 'city-mpg',\n",
              " 'height',\n",
              " 'stroke',\n",
              " 'normalized-losses',\n",
              " 'bore',\n",
              " 'compression-ratio',\n",
              " 'symboling',\n",
              " 'peak-rpm',\n",
              " 'width',\n",
              " 'curb-weight',\n",
              " 'engine-size',\n",
              " 'horsepower']"
            ]
          },
          "metadata": {
            "tags": []
          },
          "execution_count": 12
        }
      ]
    },
    {
      "cell_type": "code",
      "metadata": {
        "id": "SzV8svltxC1H",
        "colab": {
          "base_uri": "https://localhost:8080/"
        },
        "outputId": "d35dff35-99c4-4521-eb8b-5317c66df9d6"
      },
      "source": [
        "train_X_df.dtypes"
      ],
      "execution_count": null,
      "outputs": [
        {
          "output_type": "execute_result",
          "data": {
            "text/plain": [
              "symboling              int64\n",
              "normalized-losses    float64\n",
              "make                  object\n",
              "fuel-type             object\n",
              "aspiration            object\n",
              "num-of-doors          object\n",
              "body-style            object\n",
              "drive-wheels          object\n",
              "engine-location       object\n",
              "wheel-base           float64\n",
              "length               float64\n",
              "width                float64\n",
              "height               float64\n",
              "curb-weight            int64\n",
              "engine-type           object\n",
              "num-of-cylinders      object\n",
              "engine-size            int64\n",
              "fuel-system           object\n",
              "bore                 float64\n",
              "stroke               float64\n",
              "compression-ratio    float64\n",
              "horsepower           float64\n",
              "peak-rpm             float64\n",
              "city-mpg               int64\n",
              "highway-mpg            int64\n",
              "dtype: object"
            ]
          },
          "metadata": {
            "tags": []
          },
          "execution_count": 13
        }
      ]
    },
    {
      "cell_type": "code",
      "metadata": {
        "id": "rupx0v06xWms",
        "colab": {
          "base_uri": "https://localhost:8080/"
        },
        "outputId": "5ea99e18-5ff3-4bdc-99ea-43238da841a4"
      },
      "source": [
        "train_X_df['symboling'].unique()"
      ],
      "execution_count": null,
      "outputs": [
        {
          "output_type": "execute_result",
          "data": {
            "text/plain": [
              "array([ 0,  1, -1,  2,  3, -2])"
            ]
          },
          "metadata": {
            "tags": []
          },
          "execution_count": 14
        }
      ]
    },
    {
      "cell_type": "markdown",
      "metadata": {
        "id": "1MtkpLM0xs5q"
      },
      "source": [
        "#**Discrete  cols**"
      ]
    },
    {
      "cell_type": "code",
      "metadata": {
        "id": "7e0_lzJ0x2la"
      },
      "source": [
        "from sklearn.pipeline import Pipeline\n",
        "from sklearn.impute import SimpleImputer\n",
        "discrete_cols = ['symboling']\n",
        "discrete_pipe = Pipeline(steps = [ ('discrete_imputer',SimpleImputer(strategy = 'median'))])"
      ],
      "execution_count": null,
      "outputs": []
    },
    {
      "cell_type": "markdown",
      "metadata": {
        "id": "MwRACFD_0Iqh"
      },
      "source": [
        "#**Continuous cols**"
      ]
    },
    {
      "cell_type": "code",
      "metadata": {
        "id": "iyfmcqdiyiW6"
      },
      "source": [
        "continuous_cols = list(set(numerical_cols) - set(discrete_cols))\n",
        "continuous_cols\n",
        "continuous_pipe = Pipeline(steps = [ ('continuous_imputer',SimpleImputer(strategy = 'mean'))])"
      ],
      "execution_count": null,
      "outputs": []
    },
    {
      "cell_type": "markdown",
      "metadata": {
        "id": "aarDpVus0Mwp"
      },
      "source": [
        "#**Categrical cols**"
      ]
    },
    {
      "cell_type": "code",
      "metadata": {
        "id": "O67DheHz0ylL"
      },
      "source": [
        ""
      ],
      "execution_count": null,
      "outputs": []
    },
    {
      "cell_type": "code",
      "metadata": {
        "id": "qwPWILXb0MOg",
        "colab": {
          "base_uri": "https://localhost:8080/"
        },
        "outputId": "8054a216-d4b2-4abf-e694-ae92f28ea9ac"
      },
      "source": [
        "categorical_cols"
      ],
      "execution_count": null,
      "outputs": [
        {
          "output_type": "execute_result",
          "data": {
            "text/plain": [
              "Index(['make', 'fuel-type', 'aspiration', 'num-of-doors', 'body-style',\n",
              "       'drive-wheels', 'engine-location', 'engine-type', 'num-of-cylinders',\n",
              "       'fuel-system'],\n",
              "      dtype='object')"
            ]
          },
          "metadata": {
            "tags": []
          },
          "execution_count": 17
        }
      ]
    },
    {
      "cell_type": "markdown",
      "metadata": {
        "id": "n8a_JvoY0Z1A"
      },
      "source": [
        "#**Ordinal cols**"
      ]
    },
    {
      "cell_type": "code",
      "metadata": {
        "id": "t_zXaGXX0v7J",
        "colab": {
          "base_uri": "https://localhost:8080/"
        },
        "outputId": "0ee94c64-f1d1-48e3-d241-ff9eec10ac60"
      },
      "source": [
        "ordinal_cols = ['num-of-doors','num-of-cylinders']\n",
        "\n",
        "print(train_X_df['num-of-doors'].unique())\n",
        "print(train_X_df['num-of-cylinders'].unique())"
      ],
      "execution_count": null,
      "outputs": [
        {
          "output_type": "stream",
          "text": [
            "['four' 'two' nan]\n",
            "['four' 'six' 'five' 'eight' 'three' 'two' 'twelve']\n"
          ],
          "name": "stdout"
        }
      ]
    },
    {
      "cell_type": "code",
      "metadata": {
        "id": "edJ2z4z60GV3"
      },
      "source": [
        "from sklearn.preprocessing import OrdinalEncoder\n",
        "\n",
        "ordinal_cols\n",
        "\n",
        "ordinal_categories = [['num-of-doors','two','four' ],\n",
        "                       ['num-of-cylinders','two','three','four','five','six','eight','twelve']]\n",
        "ordinal_pipe = Pipeline(steps= [('ordinal_imputer',SimpleImputer(strategy= 'most_frequent')),\n",
        "                                ('ordinal_encoder', OrdinalEncoder(categories = ordinal_categories))])"
      ],
      "execution_count": null,
      "outputs": []
    },
    {
      "cell_type": "markdown",
      "metadata": {
        "id": "2zJAlOMK3NcD"
      },
      "source": [
        "#Nominal data"
      ]
    },
    {
      "cell_type": "code",
      "metadata": {
        "id": "9TuYK8aO3Mmu"
      },
      "source": [
        "nominal_cols = list(set(categorical_cols)- set(ordinal_cols))\n",
        "from sklearn.preprocessing import OneHotEncoder\n",
        "\n",
        "nominal_pipe = Pipeline(steps = [('encoder',OneHotEncoder(handle_unknown = 'ignore'))])"
      ],
      "execution_count": null,
      "outputs": []
    },
    {
      "cell_type": "code",
      "metadata": {
        "id": "gOaH5saU4ikt",
        "colab": {
          "base_uri": "https://localhost:8080/"
        },
        "outputId": "91714a80-1970-447a-c893-ebe6b04ec1be"
      },
      "source": [
        "train_X_df[nominal_cols].isna().sum()"
      ],
      "execution_count": null,
      "outputs": [
        {
          "output_type": "execute_result",
          "data": {
            "text/plain": [
              "body-style         0\n",
              "aspiration         0\n",
              "fuel-system        0\n",
              "make               0\n",
              "fuel-type          0\n",
              "engine-location    0\n",
              "drive-wheels       0\n",
              "engine-type        0\n",
              "dtype: int64"
            ]
          },
          "metadata": {
            "tags": []
          },
          "execution_count": 21
        }
      ]
    },
    {
      "cell_type": "code",
      "metadata": {
        "id": "Kj03yocs4_WT"
      },
      "source": [
        ""
      ],
      "execution_count": null,
      "outputs": []
    },
    {
      "cell_type": "markdown",
      "metadata": {
        "id": "JKmw-2NH3MW5"
      },
      "source": [
        "#**Column Transformer**"
      ]
    },
    {
      "cell_type": "code",
      "metadata": {
        "id": "QY4Cklj45ArI"
      },
      "source": [
        "from sklearn.compose import ColumnTransformer\n",
        "\n",
        "column_transformer = ColumnTransformer(transformers= [('discrete', discrete_pipe,discrete_cols),\n",
        "                                                      ('continuous',continuous_pipe,continuous_cols),\n",
        "                                                      ('ordinal',ordinal_pipe,ordinal_cols),\n",
        "                                                      ('nominal',nominal_pipe,nominal_cols)],\n",
        "                                                      remainder = 'passthrough')"
      ],
      "execution_count": null,
      "outputs": []
    },
    {
      "cell_type": "markdown",
      "metadata": {
        "id": "CXMWtQ3mZ45m"
      },
      "source": [
        "# Implementation"
      ]
    },
    {
      "cell_type": "code",
      "metadata": {
        "id": "8s9ziKBM-LBa"
      },
      "source": [
        "# ADD YOUR CODE HERE\n",
        "from sklearn.linear_model import Ridge, Lasso,LinearRegression\n",
        "from sklearn.preprocessing import RobustScaler,MinMaxScaler, StandardScaler\n",
        "from sklearn.model_selection import RandomizedSearchCV,GridSearchCV\n",
        "from sklearn.feature_selection import SelectKBest, f_regression\n",
        "from sklearn.neighbors import KNeighborsRegressor"
      ],
      "execution_count": null,
      "outputs": []
    },
    {
      "cell_type": "code",
      "metadata": {
        "id": "BuS86Wze9Dge"
      },
      "source": [
        "pipeline = Pipeline(steps = [('preprocessor',column_transformer),\n",
        "                             ('scaler',StandardScaler()),\n",
        "                             ('selector', SelectKBest(score_func=f_regression,k = 35)),\n",
        "                             ('estimator',LinearRegression())])"
      ],
      "execution_count": null,
      "outputs": []
    },
    {
      "cell_type": "code",
      "metadata": {
        "id": "PzHwfsSfKjiW"
      },
      "source": [
        "from sklearn.metrics import make_scorer , accuracy_score \n",
        "param_distributions = [{\n",
        "                        'estimator':[LinearRegression()],\n",
        "                        \n",
        "                        },\n",
        "                       {\n",
        "                        'estimator': [Ridge(alpha =20.0,solver= 'saga',max_iter= 2500)]\n",
        "                        },\n",
        "                       {\n",
        "                        'estimator': [Lasso(alpha = 2.0,max_iter= 2000)]}]"
      ],
      "execution_count": null,
      "outputs": []
    },
    {
      "cell_type": "code",
      "metadata": {
        "id": "tBxokupZNMBM",
        "colab": {
          "base_uri": "https://localhost:8080/"
        },
        "outputId": "ed733737-3b07-4e69-e395-4cc4c5d05545"
      },
      "source": [
        "random_search_cv = RandomizedSearchCV(pipeline,param_distributions,refit=True,cv = 5)\n",
        "random_search_cv.fit(train_X_df,train_Y_df)\n",
        "print(random_search_cv.best_params_)"
      ],
      "execution_count": null,
      "outputs": [
        {
          "output_type": "stream",
          "text": [
            "/usr/local/lib/python3.7/dist-packages/sklearn/model_selection/_search.py:281: UserWarning: The total space of parameters 3 is smaller than n_iter=10. Running 3 iterations. For exhaustive searches, use GridSearchCV.\n",
            "  % (grid_size, self.n_iter, grid_size), UserWarning)\n"
          ],
          "name": "stderr"
        },
        {
          "output_type": "stream",
          "text": [
            "{'estimator': Ridge(alpha=20.0, copy_X=True, fit_intercept=True, max_iter=2500,\n",
            "      normalize=False, random_state=None, solver='saga', tol=0.001)}\n"
          ],
          "name": "stdout"
        }
      ]
    },
    {
      "cell_type": "code",
      "metadata": {
        "colab": {
          "base_uri": "https://localhost:8080/"
        },
        "id": "vmI4w__0o5ye",
        "outputId": "0c84db98-32cc-4e57-f839-f668a003430d"
      },
      "source": [
        "best_model = random_search_cv.best_estimator_\n",
        "best_model.fit(train_X_df,train_Y_df)"
      ],
      "execution_count": null,
      "outputs": [
        {
          "output_type": "execute_result",
          "data": {
            "text/plain": [
              "Pipeline(memory=None,\n",
              "         steps=[('preprocessor',\n",
              "                 ColumnTransformer(n_jobs=None, remainder='passthrough',\n",
              "                                   sparse_threshold=0.3,\n",
              "                                   transformer_weights=None,\n",
              "                                   transformers=[('discrete',\n",
              "                                                  Pipeline(memory=None,\n",
              "                                                           steps=[('discrete_imputer',\n",
              "                                                                   SimpleImputer(add_indicator=False,\n",
              "                                                                                 copy=True,\n",
              "                                                                                 fill_value=None,\n",
              "                                                                                 missing_values=nan,\n",
              "                                                                                 strategy='median',\n",
              "                                                                                 verbose=0))],\n",
              "                                                           verbose=False),\n",
              "                                                  ['symbo...\n",
              "                                                   'engine-location',\n",
              "                                                   'drive-wheels',\n",
              "                                                   'engine-type'])],\n",
              "                                   verbose=False)),\n",
              "                ('scaler',\n",
              "                 StandardScaler(copy=True, with_mean=True, with_std=True)),\n",
              "                ('selector',\n",
              "                 SelectKBest(k=35,\n",
              "                             score_func=<function f_regression at 0x7f79ce8c3050>)),\n",
              "                ('estimator',\n",
              "                 Ridge(alpha=20.0, copy_X=True, fit_intercept=True,\n",
              "                       max_iter=2500, normalize=False, random_state=None,\n",
              "                       solver='saga', tol=0.001))],\n",
              "         verbose=False)"
            ]
          },
          "metadata": {
            "tags": []
          },
          "execution_count": 131
        }
      ]
    },
    {
      "cell_type": "code",
      "metadata": {
        "id": "95LjiVFLKvtb"
      },
      "source": [
        "predicted_test_Y = best_model.predict(test_X_df)"
      ],
      "execution_count": null,
      "outputs": []
    },
    {
      "cell_type": "markdown",
      "metadata": {
        "id": "O9G4e7MS5-ps"
      },
      "source": [
        "**Cross Validation with pipeline**"
      ]
    },
    {
      "cell_type": "markdown",
      "metadata": {
        "id": "LS-bO56FMt8p"
      },
      "source": [
        "# Submission \n",
        "Writing the predicted values to CSV file"
      ]
    },
    {
      "cell_type": "code",
      "metadata": {
        "id": "ukTLnsCzMwJE"
      },
      "source": [
        "pd.DataFrame(predicted_test_Y).to_csv('predicted_test_Y_cp.csv', header=None, index=False)"
      ],
      "execution_count": null,
      "outputs": []
    },
    {
      "cell_type": "code",
      "metadata": {
        "id": "yf5QFqZYLBex"
      },
      "source": [
        ""
      ],
      "execution_count": null,
      "outputs": []
    }
  ]
}